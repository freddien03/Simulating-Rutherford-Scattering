{
 "cells": [
  {
   "cell_type": "markdown",
   "metadata": {},
   "source": [
    "# Simulating Rutherford Scattering\n",
    "## Freddie Nunn\n",
    "### Eton College Computational Physics Prize 2022\n",
    "***"
   ]
  },
  {
   "cell_type": "markdown",
   "metadata": {},
   "source": [
    "## 1. Introduction\n",
    "***\n",
    "### 1.1 History of Rutherford Scattering\n",
    "Rutherford Scattering is a phenomenon first explained by Ernest Rutherford in 1911; it describes the scattering of charged particles due to the Coulomb Interaction (force between charged particles). The phenomenon was first tested by Hans Geiger and Ernest Marsden in 1909 using the gold foil experiment, shown below:\n",
    "\n",
    "<img src=\"images/Picture 1.png\" alt=\"Gold Foil Diagram\" style=\"width:400px;\">\n",
    "\n",
    "The experiment consisted of bombarding a thin gold foil with alpha particles from a radium source, and measuring the angle it comes out with a fleorescent screen. At the time, the most widely accepted model of an atom was Thomson's 'plum pudding' model, which describes an atom as a sperical region of positive charge with negative particles scattered inside. According to this model, the particles should pass through the atoms with very little deflections in their path, as there is no large concentration of charge to deflect the particles. They found most particles went through without much deflection, as expected, but a few particles were deflected very large angles. This was not explained until Rutherford published his paper in 1911 detailing the Rutherford model of the atom, which consists of a small positive densly charged area in the center of the atom called the nucleus, orbited by negative particles. This explained the experiment's behaviour, as a small amount of the alpha particles would get very close to the nucleus, exerting a large force on the alpha particle, in turn causing a large deflection. This model is very similar to the one used today, and was a big leap for particle physics.\n"
   ]
  },
  {
   "cell_type": "markdown",
   "metadata": {},
   "source": [
    "### 1.2 The Physics of Rutherford Scattering\n",
    "\n",
    "Rutherford scattering is a direct consequence of Coulombs Law, which describes the force between charged objects.\n",
    "$$ {F = -\\frac {1}{4\\pi \\epsilon_{0}}\\frac {q_{1}q_{2}}{r^{2}}} $$\n",
    "Where $F$ is the force on the object in the direction of the other object, $\\epsilon_{0}$ is the permutivity of a vacuum, $q_{1}$ and $q_{2}$ are the charges of the objects, and $r$ is the distance between them. The main consequences of this in this context are:\n",
    "1. The force between the particles increases as they get closer\n",
    "2. the direction of the force on the alpha particle is directly away from the nucleus.\n",
    "\n",
    "These 2 factors result in a behaviour where most of the particles' trajectories are fairly unchanged, since they don't get close enough to a nucleus for the force to be significant, but a few particles that get close enough to the nucleus are pushed away, changing their trajectory drastically. This change in trajectory is what Rutherford measured to create his atom model, and is what I will be attempting to recreate."
   ]
  },
  {
   "cell_type": "markdown",
   "metadata": {},
   "source": [
    "## 2. Project Overview\n",
    "***\n",
    "The aim of this model is to model Rutherford Scattering by simulating the Gold Foil experiment that Geiger and Marsden performed. I will then measure the distribution of scattering angles, and compare it to real data to check its accuracy.\n",
    "\n",
    "### 2.1 Factors to Consider\n",
    "\n",
    "In order to create as accurate a model as possible, I will need to consider all factors that could affect the scattering angle, and decide whether to include them in my model or not.\n",
    "\n",
    "#### 2.1.1 Included Factors\n",
    "\n",
    "\n",
    "##### Material and Lattice Structure\n",
    "\n",
    "In the original experiment, they fired the alpha particles at a thin leaf of gold lattice a few atoms thick. However, in Rutherford's paper he repeated the experiment with multiple different materials, to verify the scattering effect with different materials and investigate the effect of different atom weights and sizes. In my model, varying the material is much easier than Rutherford's experiment, and is just a question of different numbers. My final model will also use a 3 Dimensional lattice  to be as accurate as possible, but I will also model a single atom and a 2 Dimensional lattice on the way, as they are easier and allow me to more closely invesigate specific parts of the model.\n",
    "\n",
    "##### Alpha Particle Velocity\n",
    "\n",
    "The velocity of the alpha particles directly affects the angle of deflection, as the faster the particle is, the less time it spends close to the nucleus and so it will be pushed less. In Rutherford's experiments, he used a radium source to emit alpha particles with a random distribution of velocities. However, I will use a constant velocity for all of the alpha particles. While this means the results may slightly differ from Rutherford's, it also means the results will be more accurate, as each particle from the same position will be deflected the same amount; A luxury unavailable to Rutherford at the time.\n",
    "\n",
    "##### Effect of Force on Nucleus\n",
    "\n",
    "The Coulomb Force acts on both particles involved, and so the nucleus will also feel a repulsive force from the alpha particle. This creates a small 'recoil' in the nucleus, which can affect the deflection angle. I will take the same approach as with the lattice structure, by implementing it once I have a basic model completed.\n",
    "\n",
    "#### 2.1.2 Exluded Factors\n",
    "\n",
    "\n",
    "##### Relativistic Effects\n",
    "\n",
    "According to Einstein's Special Relativity, an object's mass is affected by its velocity by a factor of $\\frac {1}{\\sqrt {1 - \\frac {v^{2}}{c^{2}}}} $, where $v$ is the object's velocity and $c$ is the speed of light in a vacuum. To decide whether to include this in my model, I calculated the speed of an alpha particle being emitted from a radium source. The alpha particles emitted have 5.6 MeV of energy, and using $KE = \\frac {1}{2}mv{2}$ and a mass of 4u, I found the speed to be $1.6\\times10^{7} m s^{-1}$. I then calculated the relativistic mass using the factor stated earlier, and I got $6.7\\times10^{-27}kg$. Finally, I calculated the % change of mass from this, using the following formula:\n",
    "$$ \\frac {m_{rel} - m}{m} \\times 100\\% $$\n",
    "Where $m$ is the standing mass and $m_{rel}$ is the relativistic mass, and got 0.15% change. This shows that at these speeds, the change in mass is neglegable, and I can safely assume the particles do not feel these relativistic effects in my model, without significantly affecting the results.\n",
    "\n",
    "##### Charge Distribution in Particles\n",
    "\n",
    "In my model, I will assume charge is distributed uniformly within the particles. In reality, this is not true, as charge is contained in discreet protons within the nucleus. However, Coulomb's Law only works with point charges or uniformly distributed charge in a sphere, and so this assumption must be made for the model to hold up. Once I have completed the model, I may be able to depict this accurately by considering the Coulomb force from each proton in a nucleus, increasing the accuracy of the results."
   ]
  }
 ],
 "metadata": {
  "interpreter": {
   "hash": "31f2aee4e71d21fbe5cf8b01ff0e069b9275f58929596ceb00d14d90e3e16cd6"
  },
  "kernelspec": {
   "display_name": "Python 3.8.2 64-bit",
   "language": "python",
   "name": "python3"
  },
  "language_info": {
   "codemirror_mode": {
    "name": "ipython",
    "version": 3
   },
   "file_extension": ".py",
   "mimetype": "text/x-python",
   "name": "python",
   "nbconvert_exporter": "python",
   "pygments_lexer": "ipython3",
   "version": "3.9.7"
  },
  "orig_nbformat": 4
 },
 "nbformat": 4,
 "nbformat_minor": 2
}
