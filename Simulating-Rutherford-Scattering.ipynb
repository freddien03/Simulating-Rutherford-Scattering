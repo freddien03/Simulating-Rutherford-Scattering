{
 "cells": [
  {
   "cell_type": "markdown",
   "metadata": {},
   "source": [
    "# Simulating Rutherford Scattering\n",
    "## Freddie Nunn\n",
    "### Eton College Computational Physics Prize 2022\n",
    "***"
   ]
  },
  {
   "cell_type": "markdown",
   "metadata": {},
   "source": [
    "## 1. Introduction\n",
    "***\n",
    "### 1.1 History of Rutherford Scattering\n",
    "Rutherford Scattering is a phenomenon first explained by Ernest Rutherford in 1911; it describes the scattering of charged particles due to the Coulomb Interaction (force between charged particles). The phenomenon was first tested by Hans Geiger and Ernest Marsden in 1909 using the gold foil experiment, shown below:\n",
    "\n",
    "<img src=\"images/Hnet.com-image.png\" alt=\"Gold Foil Diagram\" style=\"width:400px;\">\n",
    "\n",
    "The experiment consisted of bombarding a thin gold foil with alpha particles from a radium source, and measuring the angle it comes out with a fleorescent screen. At the time, the most widely accepted model of an atom was Thomson's 'plum pudding' model, which describes an atom as a sperical region of positive charge with negative particles scattered inside. According to this model, the particles should pass through the atoms with very little deflections in their path, as there is no large concentration of charge to deflect the particles. They found most particles went through without much deflection, as expected, but a few particles were deflected very large angles. This was not explained until Rutherford published his paper in 1911 detailing the Rutherford model of the atom, which consists of a small positive densly charged area in the center of the atom called the nucleus, orbited by negative particles. This explained the experiment's behaviour, as a small amount of the alpha particles would get very close to the nucleus, exerting a large force on the alpha particle, in turn causing a large deflection. This model is very similar to the one used today, and was a big leap for particle physics.\n"
   ]
  },
  {
   "cell_type": "markdown",
   "metadata": {},
   "source": [
    "### 1.2 The Physics of Rutherford Scattering\n",
    "\n",
    "Rutherford scattering is a direct consequence of Coulombs Law, which describes the force between charged objects.\n",
    "$$ {F = -\\frac {1}{4\\pi \\epsilon_{0}}\\frac {q_{1}q_{2}}{r^{2}}} $$\n",
    "Where $F$ is the force on the object in the direction of the other object, $\\epsilon_{0}$ is the permutivity of a vacuum, $q_{1}$ and $q_{2}$ are the charges of the objects, and $r$ is the distance between them. The main consequences of this in this context are:\n",
    "1. The force between the particles increases as they get closer\n",
    "2. the direction of the force on the alpha particle is directly away from the nucleus.\n",
    "\n",
    "These 2 factors result in a behaviour where most of the particles' trajectories are fairly unchanged, since they don't get close enough to a nucleus for the force to be significant, but a few particles that get close enough to the nucleus are pushed away, changing their trajectory drastically. This change in trajectory is what Rutherford measured to create his atom model, and is what I will be attempting to recreate."
   ]
  },
  {
   "cell_type": "markdown",
   "metadata": {},
   "source": [
    "## 2. Model Overview\n",
    "***\n",
    "The aim of this model is to model Rutherford Scattering by simulating the Gold Foil experiment that Geiger and Marsden performed. I will then measure the distribution of scattering angles, and compare it to real data to check its accuracy.\n",
    "\n",
    "### 2.1 Factors to Consider\n",
    "\n",
    "In order to create as accurate a model as possible, I will need to consider all factors that could affect the scattering angle, and decide whether to include them in my model or not.\n",
    "\n",
    "#### 2.1.1 Included Factors\n",
    "\n",
    "\n",
    "##### Material and Lattice Structure\n",
    "\n",
    "In the original experiment, they fired the alpha particles at a thin leaf of gold lattice a few atoms thick. However, in Rutherford's paper he repeated the experiment with multiple different materials, to verify the scattering effect with different materials and investigate the effect of different atom weights and sizes. In my model, varying the material is much easier than Rutherford's experiment, and is just a question of different numbers. My final model will also use a 3 Dimensional lattice  to be as accurate as possible, but I will also model a single atom and a 2 Dimensional lattice on the way, as they are easier and allow me to more closely invesigate specific parts of the model.\n",
    "\n",
    "##### Alpha Particle Velocity\n",
    "\n",
    "The velocity of the alpha particles directly affects the angle of deflection, as the faster the particle is, the less time it spends close to the nucleus and so it will be pushed less. In Rutherford's experiments, he used a radium source to emit alpha particles with a random distribution of velocities. However, I will use a constant velocity for all of the alpha particles. While this means the results may slightly differ from Rutherford's, it also means the results will be more accurate, as each particle from the same position will be deflected the same amount; A luxury unavailable to Rutherford at the time.\n",
    "\n",
    "##### Effect of Force on Nucleus\n",
    "\n",
    "The Coulomb Force acts on both particles involved, and so the nucleus will also feel a repulsive force from the alpha particle. This creates a small 'recoil' in the nucleus, which can affect the deflection angle. I will take the same approach as with the lattice structure, by implementing it once I have a basic model completed.\n",
    "\n",
    "#### 2.1.2 Exluded Factors\n",
    "\n",
    "\n",
    "##### Relativistic Effects\n",
    "\n",
    "According to Einstein's Special Relativity, an object's mass is affected by its velocity by a factor of $\\frac {1}{\\sqrt {1 - \\frac {v^{2}}{c^{2}}}} $, where $v$ is the object's velocity and $c$ is the speed of light in a vacuum. To decide whether to include this in my model, I calculated the speed of an alpha particle being emitted from a radium source. The alpha particles emitted have 5.6 MeV of energy, and using $KE = \\frac {1}{2}mv{2}$ and a mass of 4u, I found the speed to be $1.6\\times10^{7} m s^{-1}$. I then calculated the relativistic mass using the factor stated earlier, and I got $6.7\\times10^{-27}kg$. Finally, I calculated the % change of mass using the following formula:\n",
    "$$ \\frac {m_{rel} - m}{m} \\times 100\\% $$\n",
    "Where $m$ is the standing mass and $m_{rel}$ is the relativistic mass, and got 0.15% change. This shows that at these speeds, the change in mass is neglegable, and I can safely assume the particles do not feel these relativistic effects in my model, without significantly affecting the results.\n",
    "\n",
    "##### Charge Distribution in Particles\n",
    "\n",
    "In my model, I will assume charge is distributed uniformly within the particles. In reality, this is not true, as charge is contained in discreet protons within the nucleus. However, Coulomb's Law only works with point charges or uniformly distributed charge in a sphere, and so this assumption must be made for the model to hold up. Once I have completed the model, I may be able to depict this accurately by considering the Coulomb force from each proton in a nucleus, increasing the accuracy of the results."
   ]
  },
  {
   "cell_type": "markdown",
   "metadata": {},
   "source": [
    "### 2.2 Model Breakdown\n",
    "\n",
    "#### 2.2.1 Parameters\n",
    "\n",
    "The parameters for this model can be split into 3 main categories: alpha particle, Nucleus, and simulation parameters.\n",
    "\n",
    "##### Alpha Particle\n",
    "\n",
    "- $Q_{1}$: Charge of the particle\n",
    "- $m_{\\alpha}$: Mass of the particle\n",
    "- $r_{\\alpha}$: Radius of the particle\n",
    "- $u$: Initial speed\n",
    "\n",
    "The mass, charge and radius of the particle will be based off the actual alpha particle values. Initial speed will be chosen to follow Geiger and Marsdon's original experiment as similarly as possible.\n",
    "\n",
    "##### Nucleus\n",
    "\n",
    "- $Q_{2}$: Charge of the nucleus\n",
    "- $m_{n}$: Mass of the nucleus\n",
    "- $r_{n}$: radius of the nucleus\n",
    "\n",
    "The mass, charge and radius will be decided by the material being used. This will be gold for most of the simulation to correlate with the original experiments.\n",
    "\n",
    "##### Simulation\n",
    "\n",
    "- $a$: Activity of the source\n",
    "- $r_{max}$: radius of source\n",
    "- $n$: number of alpha particles\n",
    "- $A$: Area of lattice\n",
    "- $t$: thickness\n",
    "- $d$: Distance from source to lattice\n",
    "\n",
    "the activity decides the chance an alpha particle is created and will be based off the radium source used in the original experiment. The radius of the source determines the size of the area from wherer the alpha particles are emitted. The number of alpha particles is the total number emitted, and so determines how long the simulation will take and how accurate the results will be. The area and thickness of the lattice decide the size of the lattice that the alpha particles will be fired into. The distance between source and lattice decides both how far away alpha particles are when they are created, and the distance from the lattice at which their scattering angle should be measured. \n",
    "\n",
    "#### 2.2.2 The Simulation\n",
    "\n",
    "This describes the oultine of the simulation process.\n",
    "\n",
    "1. Initialize the atoms with positions according to the lattice shape and size, and values according the the material being used.\n",
    "2. Choose whether to create an alpha particle or not randomly, according to the activity.\n",
    "   - If an alpha particle is created, initialize it with a position randomly on a 2D plane representing the source.\n",
    "3. Calculate the net force on each alpha particle by combining the force from each nucleus.\n",
    "4. Move forward a fixed timestep and change the alpha particles accordingly.\n",
    "5. If an alpha particle is over $d$ distance from the centre of the lattice, measure its scattering angle, and delete the particle.\n",
    "6. repeat steps 2-5 until $n$ alpha particles have been created and deleted."
   ]
  },
  {
   "cell_type": "markdown",
   "metadata": {},
   "source": [
    "## 3. Algorithm Details\n",
    "***\n",
    "Here I will go over the details and mathematics involved with the algorithms I will create.\n",
    "### 3.1 Distance and Force\n",
    "\n",
    "The core algorithms in this model are calculating the distance and force between particles. This forms the basis of how Rutherford Scattering work.\n",
    "\n",
    "Distance is calculated using the Euclidean Distance formula between 2 vectors A and B:\n",
    "$$ r = \\sqrt{(x_{A}-x_{B})^{2}+(y_{A}-y_{B})^{2}+(z_{A}-z_{B})^{2}} $$\n",
    "and force can be calculated using Coulomb's Law.\n",
    "$$ {|F| = \\frac {Q_{A}Q_{B}}{4\\pi \\epsilon_{0}r^{2}}} $$\n",
    "This gives us the magnitude of the force, but we then need to calculate the force vector. Since both we know both particles will always be positive, the direction of the force must be directly away from the other particle. Therefore for a force on A, the direction is:\n",
    "$$ \\vec{BA} = \\begin{pmatrix} x_{A}-x_{B} \\\\ y_{A}-y_{B}  \\\\  z_{A}-z_{B} \\end{pmatrix} $$\n",
    "We can now calculate the force vector.\n",
    "$$ F =  \\lambda\\times\\vec{BA} $$\n",
    "$$ |F| =  \\lambda|\\vec{BA}| $$\n",
    "$$ F = \\frac{|F|}{|\\vec{BA}|}\\times \\vec{BA} $$\n",
    "\n",
    "##### 3.1.1 Net Force\n",
    "Calculating the net force is as simple as adding up the forces from all particles.\n",
    "$$ \\sum F = \\sum_{i}\\begin{pmatrix} x_{i} \\\\ y_{i}  \\\\  z_{i} \\end{pmatrix} $$\n",
    "\n",
    "\n"
   ]
  },
  {
   "cell_type": "markdown",
   "metadata": {},
   "source": [
    "### 3.2 Update Position and Velocity\n",
    "\n",
    "I used a time integration method to update position and velocity in discrete chunks of time. To do this, I used the Kinematic equations:\n",
    "$$ v(t+\\Delta t) = v(t) + a(t)\\Delta t $$\n",
    "$$ x(t+\\Delta t) = x(t) + v(t+\\Delta t)\\Delta t $$\n",
    "Position and velocity will both have starting values, and acceleration is calculated using $a=F/m$, where $F$ is the net force on the particle. $\\Delta t$ refers to the timestep, which will be calculated in a seperate algorithm. I am using a semi-implicit method, where the velocity from after the timestep is used to update the position; this is more accurate than the explicit method of using the current velocity. You will notice a fully implicit method where the acceleration from after the timstep is used to update the velocity is not possible, as the position after the timestep is needed for this, which we do not have. Therefore, the equations to update velocity and position are as follows:\n",
    "$$ v_{n+1} = v_{n} + \\frac{\\sum F}{m}\\Delta t $$\n",
    "$$ x_{n+1} = x_{n} + v_{n+1}\\Delta t $$"
   ]
  },
  {
   "cell_type": "markdown",
   "metadata": {},
   "source": [
    "#### 3.2.1 Calculate Timestep\n",
    "The value of the timestep I use directly affects the efficiency and accuracy of the program. Smaller timesteps give more accurate results, but are slower. To improve efficiency and accuracy, I used a variable timstep method, where the timstep is proportional to the smallest distance from particle to nuclei. I also introduced a maximum and minimum timestep to ensure accuracy and efficiency. Using trial and error, I landed on $10^{15}$ and $10^{23}$ for the min and max respectively, and $10^{-8}$ for the proportional constant.\n",
    "$$ \\Delta t=max(min(d\\times 10^{-10}, 10^{-15}), 10^{-23}) $$"
   ]
  },
  {
   "cell_type": "markdown",
   "metadata": {},
   "source": [
    "### 3.3 Calculate Angle\n",
    "To calculate the total angle a particle has been deflected by, we can use the equation for the dot product:\n",
    "$$ A \\cdot B = |A||B|cos(\\theta) $$\n",
    "where A and B are vectors, and $\\theta$ is the angle between them. since the direction of the velocity vector of a particle represents the direction it is travelling, the angle btween the initial velocity and the final velocity represents the deflection angle. Thus, we can calculate the deflection angle as follows:\n",
    "$$ \\theta = cos^{-1}(\\frac{V_{0} \\cdot V_{f}}{|V_{0}||V_{f}|}) $$\n",
    "Where $V_{0}$ is the initial velocity and $V_{f}$ is the final velocity."
   ]
  },
  {
   "cell_type": "markdown",
   "metadata": {},
   "source": [
    "### 3.5 Lattice creation"
   ]
  },
  {
   "cell_type": "markdown",
   "metadata": {},
   "source": [
    "### 3.5 Handling Particles\n",
    "\n",
    "#### 3.5.1 Particle Creation\n",
    "At each timestep, there is a chance an alpha particle is created based of the activity of the source. This probability is represented by $a \\Delta t$, where $a$ is the activity and $\\Delta t$ is the timestep.\n",
    "If a particle is created, it is given a random coordinate on the x-y plane. This is generated as follows:\n",
    "$$ \\bold r = \\begin{pmatrix} R cos(\\Theta) \\\\  R sin(\\Theta)  \\\\  0 \\end{pmatrix} $$\n",
    "Where $R$ is a uniformly distributed random variable between 0 and $r_{max}$, and $\\Theta$ is a uniformly distributed random variable between 0 and $2\\pi$.\n",
    "\n",
    "#### 3.5.2 Particle Deletion\n",
    "The particle is deleted when it"
   ]
  },
  {
   "cell_type": "markdown",
   "metadata": {},
   "source": [
    "## 4. The Model\n",
    "***"
   ]
  },
  {
   "cell_type": "code",
   "execution_count": 2,
   "metadata": {},
   "outputs": [],
   "source": [
    "import numpy as np\n",
    "import numpy.random as rand\n",
    "from enum import Enum\n",
    "import pickle\n",
    "np.random.seed(1)\n",
    "\n",
    "class Particle:\n",
    "    E0 = 8.85e-12\n",
    "    u = 1.66e-27\n",
    "    e = 1.602e-19\n",
    "\n",
    "    def __init__(self, mass: float, charge: float, position: np.array, velocity: np.array):\n",
    "        self.mass = mass*self.u\n",
    "        self.charge = charge*self.e\n",
    "        self.position = position\n",
    "        self.velocity = velocity\n",
    "        self.initialVel = np.array(velocity)\n",
    "        self.initialOffset = np.linalg.norm(position)\n",
    "\n",
    "    def distance(self, particle):\n",
    "        return np.linalg.norm(self.position-particle.position)\n",
    "    \n",
    "    def minDistance(self, particles):\n",
    "        return min([np.linalg.norm(self.position-particle.position) for particle in particles])\n",
    "\n",
    "    def attraction(self, particle):\n",
    "        return (self.charge*particle.charge)/(4*np.pi*self.E0*(self.distance(particle)**2))\n",
    "\n",
    "    def netForce(self, particles):\n",
    "        force = np.zeros(3)\n",
    "        for particle in particles:\n",
    "            forceMag = self.attraction(particle)\n",
    "            direction = self.position-particle.position\n",
    "            force += (forceMag/np.linalg.norm(direction))*direction\n",
    "\n",
    "        return force\n",
    "    \n",
    "    def updatePosVel(self, particles, TIMESTEP):\n",
    "        a = self.netForce(particles)/self.mass\n",
    "        self.velocity += a*TIMESTEP\n",
    "        self.position += self.velocity*TIMESTEP\n",
    "    \n",
    "    def calcTimeStep(self, particles):\n",
    "        dist = min([self.distance(particle) for particle in particles])\n",
    "        return max(min((dist*1e-10),1e-15), 1e-23)\n",
    "    \n",
    "    def calcAngle(self):\n",
    "        dot = np.dot(self.velocity, self.initialVel)\n",
    "        angle = np.arccos(dot/(np.linalg.norm(self.velocity)*np.linalg.norm(self.initialVel)))\n",
    "        return np.degrees(angle)\n",
    "\n",
    "class ParticleType(Enum):\n",
    "    ALPHA = {\"m\": 4,\n",
    "            \"q\": 2,\n",
    "            \"u\": 1.6e7}\n",
    "    GOLD = {\"m\": 197,\n",
    "            \"q\": 79,\n",
    "            \"u\": 0,\n",
    "            \"dens\": 19300}\n",
    "\n",
    "\n",
    "class RutherfordSystem:\n",
    "    timeStep = 0\n",
    "\n",
    "    def __init__(self, activity, rMax, l, t, d, particleType: ParticleType, nucleusType: ParticleType):\n",
    "        self.particleType = particleType\n",
    "        self.d = d\n",
    "        self.nuclei = self.createLattice(l, t, d, nucleusType)\n",
    "        self.activity = activity\n",
    "        self.rMax = rMax\n",
    "    \n",
    "    def unitBoxLength(self, nucleusType):\n",
    "        vol = (4*nucleusType.value[\"m\"]*Particle.u)/nucleusType.value[\"dens\"]\n",
    "        return vol**(1/3)\n",
    "    \n",
    "    def createLattice(self, length, t, d, nucleusType):\n",
    "        if t == 0 and length ==0:\n",
    "            return [Particle(nucleusType.value[\"m\"], nucleusType.value[\"q\"], np.array([0., 0., d]), np.array([0., 0., 0.]))]\n",
    "        elif t == 0:\n",
    "            # Create 2D lattice\n",
    "            nuclei = []\n",
    "            boxLen = self.unitBoxLength(nucleusType)\n",
    "            xPos = -length/2\n",
    "            yPos = -length/2\n",
    "            layerOffset = False\n",
    "            while yPos <= length/2:\n",
    "                while xPos <= length/2:\n",
    "                    nuclei.append(Particle(nucleusType.value[\"m\"], nucleusType.value[\"q\"], np.array([xPos, yPos, d]), np.array([0., 0., 0.])))\n",
    "                    xPos += boxLen\n",
    "                yPos += boxLen\n",
    "                layerOffset = not layerOffset\n",
    "                if layerOffset:\n",
    "                    xPos = (boxLen-length)/2\n",
    "                else:\n",
    "                    xPos = -length/2\n",
    "\n",
    "            return nuclei\n",
    "        else:\n",
    "            #  Create 3D lattice\n",
    "            nuclei = []\n",
    "            boxLen = self.unitBoxLength(nucleusType)\n",
    "            xPos = -length/2\n",
    "            yPos = -length/2\n",
    "            zPos = self.d\n",
    "            xlayerOffset = False\n",
    "            zlayerOffset = False\n",
    "            while zPos <= (self.d + t):\n",
    "                while yPos <= length/2:\n",
    "                    while xPos <= length/2:\n",
    "                        nuclei.append(Particle(nucleusType.value[\"m\"], nucleusType.value[\"q\"], np.array([xPos, yPos, zPos]), np.array([0., 0., 0.])))\n",
    "                        xPos += boxLen\n",
    "                    yPos += boxLen\n",
    "                    xlayerOffset = not xlayerOffset\n",
    "                    if xlayerOffset:\n",
    "                        xPos = (boxLen-length)/2\n",
    "                    else:\n",
    "                        xPos = -length/2\n",
    "                zPos += boxLen/2\n",
    "                zlayerOffset = not zlayerOffset\n",
    "                xlayerOffset = zlayerOffset\n",
    "                yPos = -length/2\n",
    "                if xlayerOffset:\n",
    "                    xPos = (boxLen-length)/2\n",
    "                else:\n",
    "                    xPos = -length/2\n",
    "            return nuclei\n",
    "    \n",
    "    def newParticle(self, pos):\n",
    "        return Particle(self.particleType.value[\"m\"], self.particleType.value[\"q\"], pos, np.array([0., 0., self.particleType.value[\"u\"]]))\n",
    "    \n",
    "    def randomPoint(self):\n",
    "        theta = rand.uniform(0,2*np.pi, 1)\n",
    "        radius = rand.uniform(0,self.rMax, 1)\n",
    "        return np.array([(radius*np.cos(theta))[0], (radius*np.sin(theta))[0], 0.])\n",
    "    \n",
    "    def cache(self, name):\n",
    "        with open(f\"cache/{name}\", \"wb\") as outfile:\n",
    "            pickle.dump(self, outfile)\n",
    "        return name\n",
    "    \n",
    "    def singleSim(self, b):\n",
    "        alpha = self.newParticle(np.array([b, 0., 0.]))\n",
    "        positions = np.array([alpha.position])\n",
    "        dist = alpha.minDistance(self.nuclei)\n",
    "        while alpha.minDistance(self.nuclei) <= dist:\n",
    "            self.timeStep = alpha.calcTimeStep(self.nuclei)\n",
    "            alpha.updatePosVel(self.nuclei, self.timeStep)\n",
    "            positions = np.concatenate(([alpha.position], positions))\n",
    "        return {\"positions\": positions, \"angle\": alpha.calcAngle()}\n",
    "\n",
    "    def multiSim(self, num):\n",
    "        alphaCount = 1\n",
    "        alphas = [self.newParticle(self.randomPoint())]\n",
    "        angles = []\n",
    "        offsets = []\n",
    "        while alphaCount < num or len(alphas) != 0:\n",
    "            timeStep = np.inf\n",
    "            for alpha in alphas:\n",
    "                timeStep = min(timeStep, alpha.calcTimeStep(self.nuclei))\n",
    "            \n",
    "            for alpha in alphas:\n",
    "                alpha.updatePosVel(self.nuclei, timeStep)\n",
    "                if alpha.minDistance(self.nuclei) > np.linalg.norm(np.array([self.d, self.rMax])):\n",
    "                    angles.append(alpha.calcAngle())\n",
    "                    offsets.append(alpha.initialOffset)\n",
    "                    alphas.remove(alpha)\n",
    "\n",
    "            if rand.rand(1)[0] < self.activity*timeStep and alphaCount < num:\n",
    "                alphas.append(self.newParticle(self.randomPoint()))\n",
    "                alphaCount += 1\n",
    "\n",
    "        return {\"angles\": angles, \"offsets\": offsets}\n"
   ]
  },
  {
   "cell_type": "code",
   "execution_count": 3,
   "metadata": {},
   "outputs": [],
   "source": [
    "import matplotlib.pyplot as plt\n",
    "%matplotlib inline\n",
    "\n",
    "goldFoil = RutherfordSystem(activity=3.7e9, rMax= 0.5e-3, l=1.5e-3, t=4e-7, d=1e-3, particleType=ParticleType.ALPHA, nucleusType=ParticleType.GOLD)\n",
    "goldFoil.cache(\"3DGold\")\n",
    "multSim = goldFoil.multiSim(100)\n",
    "\n",
    "hist = plt.hist(multSim[\"angles\"], 36)\n",
    "plt.xlabel('Scattering angle')\n",
    "plt.ylabel('No. of alpha particles')\n",
    "plt.xlim(0, 180)\n",
    "plt.ylim(0, 100)\n",
    "plt.grid(True)\n",
    "\n",
    "plt.show()"
   ]
  },
  {
   "cell_type": "code",
   "execution_count": 4,
   "metadata": {},
   "outputs": [
    {
     "name": "stdout",
     "output_type": "stream",
     "text": [
      "90.01728729312\n"
     ]
    },
    {
     "data": {
      "image/png": "[encoded data removed]",
      "text/plain": [
       "<Figure size 432x288 with 1 Axes>"
      ]
     },
     "metadata": {
      "needs_background": "light"
     },
     "output_type": "display_data"
    }
   ],
   "source": [
    "import matplotlib.pyplot as plt\n",
    "%matplotlib inline\n",
    "\n",
    "goldFoil = RutherfordSystem(3.7e9, 1e-12, 0, 0, 1e-4, ParticleType.ALPHA, ParticleType.GOLD)\n",
    "singleSim = goldFoil.singleSim(b=2.144e-14)\n",
    "print(singleSim[\"angle\"])\n",
    "\n",
    "fig = plt.figure()\n",
    "ax = fig.add_subplot(projection='3d')\n",
    "ax.scatter(singleSim[\"positions\"][...,0], singleSim[\"positions\"][...,1], singleSim[\"positions\"][...,2], marker = \"o\")\n",
    "for nucleus in goldFoil.nuclei:\n",
    "    ax.scatter(nucleus.position[0], nucleus.position[0], nucleus.position[2], marker = \"X\")\n",
    "plt.show()"
   ]
  },
  {
   "cell_type": "code",
   "execution_count": 108,
   "metadata": {},
   "outputs": [
    {
     "data": {
      "image/png": "[encoded data removed]",
      "text/plain": [
       "<Figure size 432x288 with 1 Axes>"
      ]
     },
     "metadata": {
      "needs_background": "light"
     },
     "output_type": "display_data"
    },
    {
     "data": {
      "image/png": "[encoded data removed]",
      "text/plain": [
       "<Figure size 432x288 with 1 Axes>"
      ]
     },
     "metadata": {
      "needs_background": "light"
     },
     "output_type": "display_data"
    }
   ],
   "source": [
    "goldFoil = RutherfordSystem(3.7e9, 1e-12, 0, 0, 1e-4, ParticleType.ALPHA, ParticleType.GOLD)\n",
    "multSim = goldFoil.multiSim(5000)\n",
    "\n",
    "hist = plt.hist(multSim[\"angles\"], 50)\n",
    "plt.xlabel('Angles')\n",
    "plt.ylabel('Frequency')\n",
    "plt.title('Histogram of Angles')\n",
    "plt.xlim(0, 180)\n",
    "plt.ylim(0, 5000)\n",
    "plt.grid(True)\n",
    "\n",
    "fig = plt.figure()\n",
    "ax = fig.add_subplot()\n",
    "ax.scatter(multSim[\"offsets\"], multSim[\"angles\"], marker = \"o\")\n",
    "\n",
    "plt.show()"
   ]
  }
 ],
 "metadata": {
  "interpreter": {
   "hash": "31f2aee4e71d21fbe5cf8b01ff0e069b9275f58929596ceb00d14d90e3e16cd6"
  },
  "kernelspec": {
   "display_name": "Python 3 (ipykernel)",
   "language": "python",
   "name": "python3"
  },
  "language_info": {
   "codemirror_mode": {
    "name": "ipython",
    "version": 3
   },
   "file_extension": ".py",
   "mimetype": "text/x-python",
   "name": "python",
   "nbconvert_exporter": "python",
   "pygments_lexer": "ipython3",
   "version": "3.9.7"
  }
 },
 "nbformat": 4,
 "nbformat_minor": 2
}
